{
  "nbformat": 4,
  "nbformat_minor": 0,
  "metadata": {
    "colab": {
      "provenance": [],
      "authorship_tag": "ABX9TyPWllABMQQfQShQAdcM+3Eh",
      "include_colab_link": true
    },
    "kernelspec": {
      "name": "python3",
      "display_name": "Python 3"
    },
    "language_info": {
      "name": "python"
    }
  },
  "cells": [
    {
      "cell_type": "markdown",
      "metadata": {
        "id": "view-in-github",
        "colab_type": "text"
      },
      "source": [
        "<a href=\"https://colab.research.google.com/github/Irinoise/test-classification-task/blob/main/HSE_test_for_final_proj.ipynb\" target=\"_parent\"><img src=\"https://colab.research.google.com/assets/colab-badge.svg\" alt=\"Open In Colab\"/></a>"
      ]
    },
    {
      "cell_type": "code",
      "metadata": {
        "colab": {
          "base_uri": "https://localhost:8080/"
        },
        "id": "ZlqRcZK88LNq",
        "outputId": "d389df72-68aa-47e5-c805-3783b5096b69"
      },
      "source": [
        "# обновление для sklearn, чтобы при загрузке датасета можно было использовать встроенный функционал получения набора данных в формате DataFrame\n",
        "!pip install -U scikit-learn"
      ],
      "execution_count": null,
      "outputs": [
        {
          "output_type": "stream",
          "text": [
            "Requirement already up-to-date: scikit-learn in /usr/local/lib/python3.7/dist-packages (0.24.2)\n",
            "Requirement already satisfied, skipping upgrade: numpy>=1.13.3 in /usr/local/lib/python3.7/dist-packages (from scikit-learn) (1.19.5)\n",
            "Requirement already satisfied, skipping upgrade: scipy>=0.19.1 in /usr/local/lib/python3.7/dist-packages (from scikit-learn) (1.4.1)\n",
            "Requirement already satisfied, skipping upgrade: threadpoolctl>=2.0.0 in /usr/local/lib/python3.7/dist-packages (from scikit-learn) (2.1.0)\n",
            "Requirement already satisfied, skipping upgrade: joblib>=0.11 in /usr/local/lib/python3.7/dist-packages (from scikit-learn) (1.0.1)\n"
          ],
          "name": "stdout"
        }
      ]
    },
    {
      "cell_type": "code",
      "metadata": {
        "id": "eSwRQaKm0rzq"
      },
      "source": [
        "import warnings\n",
        "warnings.simplefilter(\"ignore\")\n",
        "\n",
        "import pandas as pd\n",
        "import numpy as np\n",
        "\n",
        "import matplotlib.pyplot as plt\n",
        "import seaborn as sns\n",
        "%matplotlib inline\n",
        "\n",
        "import xgboost\n",
        "from sklearn.utils import shuffle\n",
        "from sklearn.datasets import load_breast_cancer, load_digits\n",
        "from sklearn.model_selection import train_test_split, cross_validate, cross_val_predict\n",
        "from sklearn.preprocessing import StandardScaler, label_binarize\n",
        "from sklearn.linear_model import LogisticRegression\n",
        "from sklearn.metrics import accuracy_score, precision_score, recall_score, f1_score, roc_auc_score, confusion_matrix"
      ],
      "execution_count": null,
      "outputs": []
    },
    {
      "cell_type": "code",
      "metadata": {
        "id": "HnrRLtdF4mwC"
      },
      "source": [
        "data_digits = load_digits(return_X_y=True)\n",
        "X, y = shuffle(data_digits[0], data_digits[1], random_state=42)"
      ],
      "execution_count": null,
      "outputs": []
    },
    {
      "cell_type": "markdown",
      "metadata": {
        "id": "byrsj9I7I7Uw"
      },
      "source": [
        "Загруженный датасет содержит 1797 объектов и 64 \"признака\". В описании датасета указано, что в наборе данных представлены 10 классов, в каждом из которых примерно по 180 объектов. Построим `countplot` и наглядно увидим, что классы сбалансированы."
      ]
    },
    {
      "cell_type": "code",
      "metadata": {
        "colab": {
          "base_uri": "https://localhost:8080/",
          "height": 265
        },
        "id": "WyA73pT3cJnV",
        "outputId": "58760acd-8c7d-460c-fa9d-99d7a1d486c3"
      },
      "source": [
        "ax = sns.countplot(y)"
      ],
      "execution_count": null,
      "outputs": [
        {
          "output_type": "display_data",
          "data": {
            "image/png": "[encoded data removed]",
            "text/plain": [
              "<Figure size 432x288 with 1 Axes>"
            ]
          },
          "metadata": {
            "tags": [],
            "needs_background": "light"
          }
        }
      ]
    },
    {
      "cell_type": "markdown",
      "metadata": {
        "id": "NDxWHIdyf-4A"
      },
      "source": [
        "Используем метод `cross_validate` для создания модели с кросс-валидацией, посчитаем метрики:\n",
        "*   Accuracy\n",
        "*   Precision\n",
        "*   Recall\n",
        "*   F-score\n",
        "*   ROC-AUC\n",
        "\n",
        "Поскольку в данном случае решается задача многоклассовой классификации, то для некоторых из метрик необходимо указать усреднение. Выбор был сделан в пользу macro-усреднения, поскольку нет дисбаланса классов и все классы равнозначны."
      ]
    },
    {
      "cell_type": "code",
      "metadata": {
        "id": "USrxhNHrSY9w"
      },
      "source": [
        "model_XGB = xgboost.XGBClassifier()\n",
        "model_LR = LogisticRegression()\n",
        "\n",
        "scores = ('accuracy', 'precision_macro', 'recall_macro', 'f1_macro', 'roc_auc_ovr')\n",
        "\n",
        "cv_XGB_scores = cross_validate(model_XGB, X, y, cv=10, scoring=scores)\n",
        "cv_LR_scores = cross_validate(model_LR, X, y, cv=10, scoring=scores)"
      ],
      "execution_count": null,
      "outputs": []
    },
    {
      "cell_type": "code",
      "metadata": {
        "colab": {
          "base_uri": "https://localhost:8080/"
        },
        "id": "r3BW66M5-4ap",
        "outputId": "77715872-f038-4bf9-f4c4-24494f172afd"
      },
      "source": [
        "print(f'Mean Accuracy: XGB = {np.mean(cv_XGB_scores[\"test_accuracy\"])}, LR = {np.mean(cv_LR_scores[\"test_accuracy\"])}')\n",
        "print(f'Mean Precision: XGB = {np.mean(cv_XGB_scores[\"test_precision_macro\"])}, LR = {np.mean(cv_LR_scores[\"test_precision_macro\"])}')\n",
        "print(f'Mean Recall: XGB = {np.mean(cv_XGB_scores[\"test_recall_macro\"])}, LR = {np.mean(cv_LR_scores[\"test_recall_macro\"])}')\n",
        "print(f'Mean F-score: XGB = {np.mean(cv_XGB_scores[\"test_f1_macro\"])}, LR = {np.mean(cv_LR_scores[\"test_f1_macro\"])}')\n",
        "print(f'Mean ROC-AUC: XGB = {np.mean(cv_XGB_scores[\"test_roc_auc_ovr\"])}, LR = {np.mean(cv_LR_scores[\"test_roc_auc_ovr\"])}')"
      ],
      "execution_count": null,
      "outputs": [
        {
          "output_type": "stream",
          "text": [
            "Mean Accuracy: XGB = 0.9621570453134698, LR = 0.9638144009931718\n",
            "Mean Precision: XGB = 0.9640162326493595, LR = 0.9664884610143897\n",
            "Mean Recall: XGB = 0.9623288613691091, LR = 0.9637736498108014\n",
            "Mean F-score: XGB = 0.9621582318145785, LR = 0.9638017445213091\n",
            "Mean ROC-AUC: XGB = 0.9991170849419977, LR = 0.9988635029848002\n"
          ],
          "name": "stdout"
        }
      ]
    },
    {
      "cell_type": "markdown",
      "metadata": {
        "id": "7dlORWpVP3Qc"
      },
      "source": [
        "Получаем следующие средние показатели по озвученным выше метрикам:\n",
        "\n",
        "|      |  XGB |LogisticRegression|\n",
        "|------|------|-------------------|\n",
        "|   **Accuracy**  | 0.962| 0.963|\n",
        "|   **Precision**  | 0.964| 0.966|\n",
        "|   **Recall**  | 0.962| 0.963|\n",
        "|   **F-score**  | 0.962| 0.963|\n",
        "|   **ROC-AUC**  | 0.999| 0.998|\n",
        "\n",
        "Данный классификатор (на основе обеих моделей) показывает очень высокие (даже вызывающие подозрение) значения ROC-AUC, что говорит о том, что классификатор научился отделять один класс от другого.\n",
        "\n",
        "Построим `confusion matrix`, чтобы понять, какие ошибки совершает классификатор, что приводит к подозрительным значениям метрик оценки качества (несколько заниженные значения accuracy/precision/recall/f-score при очень высоких значениях ROC-AUC).\n",
        "\n",
        "Поскольку значения метрик оценки качества схожи для обеих моделей, построим матрицу ошибок для одной из них."
      ]
    },
    {
      "cell_type": "code",
      "metadata": {
        "id": "cdxucFcT8ZXF"
      },
      "source": [
        "y_pred = cross_val_predict(model_XGB, X, y, cv=10)"
      ],
      "execution_count": null,
      "outputs": []
    },
    {
      "cell_type": "code",
      "metadata": {
        "colab": {
          "base_uri": "https://localhost:8080/",
          "height": 409
        },
        "id": "TAdhsxOe3UMd",
        "outputId": "d224f299-c29e-45b1-87c5-ceac7501a82f"
      },
      "source": [
        "conf_mat = confusion_matrix(y, y_pred)\n",
        "\n",
        "fig, ax = plt.subplots(figsize=(8,6))\n",
        "ax = sns.heatmap(conf_mat, annot=True, fmt='d')\n",
        "\n",
        "plt.title('Confusion Matrix', fontsize=15)\n",
        "plt.xlabel('Predicted Label', fontsize=12)\n",
        "plt.ylabel('True Label', fontsize=12)\n",
        "\n",
        "plt.show()"
      ],
      "execution_count": null,
      "outputs": [
        {
          "output_type": "display_data",
          "data": {
            "image/png": "[encoded data removed]",
            "text/plain": [
              "<Figure size 576x432 with 2 Axes>"
            ]
          },
          "metadata": {
            "tags": [],
            "needs_background": "light"
          }
        }
      ]
    },
    {
      "cell_type": "markdown",
      "metadata": {
        "id": "Cz_tJONzBfmt"
      },
      "source": [
        "По матрице ошибок видим, что классификатор действительно хорошо отделяет один класс от другого, причем это справедливо для всех 10 классов – все они определяются одинаково хорошо. Тогда можем сделать вывод, что заниженные значения остальных метрик складываются из единичных ошибок, когда каждый класс \"разово\" определяется как какой-то другой из 10.\n",
        "\n",
        "Однако, всё ещё обращаем внимание, что классификатор хорошо отделяет классы друг от друга, поэтому такой классификатор можем считать устойчивым."
      ]
    },
    {
      "cell_type": "markdown",
      "metadata": {
        "id": "JdtH9CxtSAKZ"
      },
      "source": [
        "Создадим модель с использованием одного разбиения train-test в соотношении 70:30 и посчитаем те же метрики."
      ]
    },
    {
      "cell_type": "code",
      "metadata": {
        "id": "2XuyYRjGcIZZ"
      },
      "source": [
        "X_train, X_test, y_train, y_test = train_test_split(X, y, test_size=0.3, random_state=42, shuffle=True)"
      ],
      "execution_count": null,
      "outputs": []
    },
    {
      "cell_type": "markdown",
      "metadata": {
        "id": "9b7TiAaKs4gE"
      },
      "source": [
        "Реализуем метод для подсчета значений метрик оценки качества моделей."
      ]
    },
    {
      "cell_type": "code",
      "metadata": {
        "id": "i0pxfNJns07x"
      },
      "source": [
        "def scoring (y_true, y_hat):\n",
        "  accuracy = accuracy_score(y_true, y_hat)\n",
        "  precision = precision_score(y_true, y_hat, average='macro')\n",
        "  recall = recall_score(y_true, y_hat, average='macro')\n",
        "  f_score = f1_score(y_true, y_hat, average='macro')\n",
        "  labels = [0, 1, 2, 3, 4, 5, 6, 7, 8, 9]\n",
        "  roc_auc = roc_auc_score(label_binarize(y_true, classes=labels), label_binarize(y_hat, classes=labels), multi_class='ovr')\n",
        "  print(f'Accuracy = {accuracy}, Precision = {precision}, Recall = {recall}, F_score = {f_score}, ROC-AUC = {roc_auc}')"
      ],
      "execution_count": null,
      "outputs": []
    },
    {
      "cell_type": "markdown",
      "metadata": {
        "id": "ixrGnUVyvX1H"
      },
      "source": [
        "Обучим модели и посчитаем значения метрик."
      ]
    },
    {
      "cell_type": "code",
      "metadata": {
        "colab": {
          "base_uri": "https://localhost:8080/"
        },
        "id": "EHoxcHMKV9oS",
        "outputId": "bbbfe294-56e5-402c-d19b-80dfeccbb336"
      },
      "source": [
        "models = [model_XGB, model_LR]\n",
        "\n",
        "for model in models:\n",
        "  model.fit(X_train, y_train)\n",
        "  y_pred_train = model.predict(X_train)\n",
        "  y_pred_test = model.predict(X_test)\n",
        "  print(f'Train scores:')\n",
        "  scoring(y_train, y_pred_train)\n",
        "  print(f'Test scores:')\n",
        "  scoring(y_test, y_pred_test)"
      ],
      "execution_count": null,
      "outputs": [
        {
          "output_type": "stream",
          "text": [
            "Train scores:\n",
            "Accuracy = 1.0, Precision = 1.0, Recall = 1.0, F_score = 1.0, ROC-AUC = 1.0\n",
            "Test scores:\n",
            "Accuracy = 0.9444444444444444, Precision = 0.9422575955291588, Recall = 0.9426214310728129, F_score = 0.9417066553429134, ROC-AUC = 0.9682442479804646\n",
            "Train scores:\n",
            "Accuracy = 1.0, Precision = 1.0, Recall = 1.0, F_score = 1.0, ROC-AUC = 1.0\n",
            "Test scores:\n",
            "Accuracy = 0.9574074074074074, Precision = 0.9570090973259371, Recall = 0.9560929030251751, F_score = 0.9558808745896741, ROC-AUC = 0.9756871830061737\n"
          ],
          "name": "stdout"
        }
      ]
    },
    {
      "cell_type": "markdown",
      "metadata": {
        "id": "ICAZfm-BV4Fz"
      },
      "source": [
        "Для одного разбиения train-test получаем следующие значения метрик (на тестовой выборке):\n",
        "\n",
        "|      |  XGB |LogisticRegression|\n",
        "|------|------|-------------------|\n",
        "|   **Accuracy**  | 0.944| 0.957|\n",
        "|   **Precision**  | 0.942| 0.957|\n",
        "|   **Recall**  | 0.942| 0.956|\n",
        "|   **F-score**  | 0.941| 0.955|\n",
        "|   **ROC-AUC**  | 0.968| 0.975|"
      ]
    },
    {
      "cell_type": "markdown",
      "metadata": {
        "id": "3pv3MoUawQbY"
      },
      "source": [
        "Из результатов вывода программы видно, что на обучающей выборке классификатор (на основе обеих моделей) определяет классы без ошибок (все метрики = 1.0), однако на тестовой выборке значения заметно ниже, что свидетельствует о переобучении модели. Такому классификатору мы доверять не можем."
      ]
    },
    {
      "cell_type": "markdown",
      "metadata": {
        "id": "xAJzHoA4v7BQ"
      },
      "source": [
        "Загрузим и рассмотрим второй датасет."
      ]
    },
    {
      "cell_type": "code",
      "metadata": {
        "id": "8xavHXusBeXW"
      },
      "source": [
        "X_cancer, y_cancer = load_breast_cancer(return_X_y=True, as_frame=True)\n",
        "X_cancer, y_cancer = shuffle(X_cancer, y_cancer, random_state=42)"
      ],
      "execution_count": null,
      "outputs": []
    },
    {
      "cell_type": "markdown",
      "metadata": {
        "id": "IrJjtvZqWo05"
      },
      "source": [
        "Загруженный датасет состоит из 569 объектов и 30 признаков. В датасете представлены объекты 2 классов.\n",
        "\n",
        "Проверим на наличие пустых значений и посмотрим на баланс классов."
      ]
    },
    {
      "cell_type": "code",
      "metadata": {
        "colab": {
          "base_uri": "https://localhost:8080/"
        },
        "id": "djUJYh1MLEHT",
        "outputId": "45070c1d-b766-4d7d-9680-bb1ce0e29d81"
      },
      "source": [
        "X_cancer.isnull().sum()"
      ],
      "execution_count": null,
      "outputs": [
        {
          "output_type": "execute_result",
          "data": {
            "text/plain": [
              "mean radius                0\n",
              "mean texture               0\n",
              "mean perimeter             0\n",
              "mean area                  0\n",
              "mean smoothness            0\n",
              "mean compactness           0\n",
              "mean concavity             0\n",
              "mean concave points        0\n",
              "mean symmetry              0\n",
              "mean fractal dimension     0\n",
              "radius error               0\n",
              "texture error              0\n",
              "perimeter error            0\n",
              "area error                 0\n",
              "smoothness error           0\n",
              "compactness error          0\n",
              "concavity error            0\n",
              "concave points error       0\n",
              "symmetry error             0\n",
              "fractal dimension error    0\n",
              "worst radius               0\n",
              "worst texture              0\n",
              "worst perimeter            0\n",
              "worst area                 0\n",
              "worst smoothness           0\n",
              "worst compactness          0\n",
              "worst concavity            0\n",
              "worst concave points       0\n",
              "worst symmetry             0\n",
              "worst fractal dimension    0\n",
              "dtype: int64"
            ]
          },
          "metadata": {
            "tags": []
          },
          "execution_count": 13
        }
      ]
    },
    {
      "cell_type": "code",
      "metadata": {
        "colab": {
          "base_uri": "https://localhost:8080/",
          "height": 279
        },
        "id": "GQXaZt3JLO3A",
        "outputId": "19a94d1b-9b93-46b7-85b6-26c1d231d2c4"
      },
      "source": [
        "ax = sns.countplot(y_cancer)"
      ],
      "execution_count": null,
      "outputs": [
        {
          "output_type": "display_data",
          "data": {
            "image/png": "[encoded data removed]",
            "text/plain": [
              "<Figure size 432x288 with 1 Axes>"
            ]
          },
          "metadata": {
            "tags": [],
            "needs_background": "light"
          }
        }
      ]
    },
    {
      "cell_type": "markdown",
      "metadata": {
        "id": "BHNRuD0iW-xP"
      },
      "source": [
        "Видим, что классы несколько несбалансированы. Однако, было принято решение не заниматься балансировкой классов, поскольку явных проблем по причине дисбаланса не возникло, а балансировка привела бы к а) уменьшению размера и без того небольшого датасета или б) появлению синтетических объектов.\n",
        "\n",
        "Начнем с построения модели на одном разбиении train-test в соотношении 70:30.\n",
        "\n",
        "Масштабируем признаки при помощи `StandardScaler`."
      ]
    },
    {
      "cell_type": "code",
      "metadata": {
        "colab": {
          "base_uri": "https://localhost:8080/"
        },
        "id": "NuPqxyg-E3AO",
        "outputId": "8c4c8c8c-5438-4b51-c54a-e4db1bb37d62"
      },
      "source": [
        "X_train_c, X_test_c, y_train_c, y_test_c = train_test_split(X_cancer, y_cancer, test_size=0.3, random_state=42, shuffle=True)\n",
        "\n",
        "scaler = StandardScaler()\n",
        "X_train_scaled = scaler.fit_transform(X_train_c)\n",
        "X_test_scaled = scaler.transform(X_test_c)\n",
        "\n",
        "model_XGB_c = xgboost.XGBClassifier(objective='binary:logistic')\n",
        "\n",
        "models_c = [model_XGB_c, model_LR]\n",
        "\n",
        "def scoring_c (y_true, y_hat):\n",
        "  accuracy = accuracy_score(y_true, y_hat)\n",
        "  precision = precision_score(y_true, y_hat)\n",
        "  recall = recall_score(y_true, y_hat)\n",
        "  f_score = f1_score(y_true, y_hat)\n",
        "  roc_auc = roc_auc_score(y_true, y_hat)\n",
        "  print(f'Accuracy = {accuracy}, Precision = {precision}, Recall = {recall}, F_score = {f_score}, ROC-AUC = {roc_auc}')\n",
        "\n",
        "for model in models_c:\n",
        "  model.fit(X_train_scaled, y_train_c)\n",
        "  y_pred_test_c = model.predict(X_test_scaled)\n",
        "  y_pred_train_c = model.predict(X_train_scaled)\n",
        "  print(f'Train scores:')\n",
        "  scoring_c(y_train_c, y_pred_train_c)\n",
        "  print(f'Test scores:')\n",
        "  scoring_c(y_test_c, y_pred_test_c)"
      ],
      "execution_count": null,
      "outputs": [
        {
          "output_type": "stream",
          "text": [
            "Train scores:\n",
            "Accuracy = 1.0, Precision = 1.0, Recall = 1.0, F_score = 1.0, ROC-AUC = 1.0\n",
            "Test scores:\n",
            "Accuracy = 0.935672514619883, Precision = 0.9203539823008849, Recall = 0.9811320754716981, F_score = 0.949771689497717, ROC-AUC = 0.9213352685050799\n",
            "Train scores:\n",
            "Accuracy = 0.9899497487437185, Precision = 0.9881422924901185, Recall = 0.9960159362549801, F_score = 0.992063492063492, ROC-AUC = 0.9878038864948369\n",
            "Test scores:\n",
            "Accuracy = 0.9649122807017544, Precision = 0.9464285714285714, Recall = 1.0, F_score = 0.9724770642201834, ROC-AUC = 0.9538461538461538\n"
          ],
          "name": "stdout"
        }
      ]
    },
    {
      "cell_type": "markdown",
      "metadata": {
        "id": "1lMWRxW7Y-Q5"
      },
      "source": [
        "Для одного разбиения train-test получаем следующие значения метрик (на тестовой выборке):\n",
        "\n",
        "|      |  XGB |LogisticRegression|\n",
        "|------|------|-------------------|\n",
        "|   **Accuracy**  | 0.935| 0.964|\n",
        "|   **Precision**  | 0.920| 0.946|\n",
        "|   **Recall**  | 0.981| 1.0|\n",
        "|   **F-score**  | 0.949| 0.972|\n",
        "|   **ROC-AUC**  | 0.921| 0.953|\n",
        "\n",
        "По результатам видно, что получилися неустойчивый классификатор (при использовании обеих моделей): при высоком значении Recall (для LR даже равном 1.0) классификатор показывает довольно низкое значение Precision, что говорит о том, что классификатор имеет много FP-ошибок, что в случае с набором данных о заболевании раком имеет ключевое значение, поскольку такой классификатор \"пометит\" пациентов со злокачественной опухолью доброкачественной (в рассматриваемом датасете классом 0 помечена злокачественная опухоль, классом 1 – доброкачественная)."
      ]
    },
    {
      "cell_type": "code",
      "metadata": {
        "colab": {
          "base_uri": "https://localhost:8080/"
        },
        "id": "njnQjMWYO4Z4",
        "outputId": "dba0dd27-c0b1-432a-e80b-0dacf64ab12f"
      },
      "source": [
        "c_scores = ('accuracy', 'precision', 'recall', 'f1', 'roc_auc')\n",
        "\n",
        "X_cancer_scaled = scaler.transform(X_cancer)\n",
        "\n",
        "cv_XGB_c_scores = cross_validate(model_XGB_c, X_cancer_scaled, y_cancer, cv=5, scoring=c_scores)\n",
        "cv_LR_c_scores = cross_validate(model_LR, X_cancer_scaled, y_cancer, cv=5, scoring=c_scores)\n",
        "\n",
        "print(f'Mean Accuracy: XGB = {np.mean(cv_XGB_c_scores[\"test_accuracy\"])}, LR = {np.mean(cv_LR_c_scores[\"test_accuracy\"])}')\n",
        "print(f'Mean Precision: XGB = {np.mean(cv_XGB_c_scores[\"test_precision\"])}, LR = {np.mean(cv_LR_c_scores[\"test_precision\"])}')\n",
        "print(f'Mean Recall: XGB = {np.mean(cv_XGB_c_scores[\"test_recall\"])}, LR = {np.mean(cv_LR_c_scores[\"test_recall\"])}')\n",
        "print(f'Mean F-score: XGB = {np.mean(cv_XGB_c_scores[\"test_f1\"])}, LR = {np.mean(cv_LR_c_scores[\"test_f1\"])}')\n",
        "print(f'Mean ROC-AUC: XGB = {np.mean(cv_XGB_c_scores[\"test_roc_auc\"])}, LR = {np.mean(cv_LR_c_scores[\"test_roc_auc\"])}')"
      ],
      "execution_count": null,
      "outputs": [
        {
          "output_type": "stream",
          "text": [
            "Mean Accuracy: XGB = 0.9630957925787922, LR = 0.9771464058376029\n",
            "Mean Precision: XGB = 0.9642302827620212, LR = 0.9778919330289193\n",
            "Mean Recall: XGB = 0.9776212832550861, LR = 0.9860328638497652\n",
            "Mean F-score: XGB = 0.9708229509953649, LR = 0.981895881895882\n",
            "Mean ROC-AUC: XGB = 0.9912696679647219, LR = 0.9943951608011549\n"
          ],
          "name": "stdout"
        }
      ]
    },
    {
      "cell_type": "markdown",
      "metadata": {
        "id": "YNxEDmqCbH1T"
      },
      "source": [
        "Получаем следующие средние показатели по озвученным выше метрикам:\n",
        "\n",
        "|      |  XGB |LogisticRegression|\n",
        "|------|------|-------------------|\n",
        "|   **Accuracy**  | 0.963| 0.977|\n",
        "|   **Precision**  | 0.964| 0.977|\n",
        "|   **Recall**  | 0.977| 0.986|\n",
        "|   **F-score**  | 0.970| 0.981|\n",
        "|   **ROC-AUC**  | 0.991| 0.994|\n",
        "\n",
        "Здесь мы снова видим высокое значение метрики ROC-AUC, что означает, что классификатор совершает мало ошибок при разделении классов. Однако в отличие от предыдущего случая, показатели качества моделей отличаются у XGB и LR.\n",
        "\n",
        "Посмотрим на матрицу ошибок."
      ]
    },
    {
      "cell_type": "code",
      "metadata": {
        "colab": {
          "base_uri": "https://localhost:8080/",
          "height": 583
        },
        "id": "PFo2egu2IpQ8",
        "outputId": "134ff411-7eec-4688-9efb-adf4d27db0d2"
      },
      "source": [
        "i = 0\n",
        "\n",
        "for model in models_c:\n",
        "  y_pred = cross_val_predict(model, X_cancer_scaled, y_cancer, cv=5)\n",
        "  conf_mtrx = confusion_matrix(y_cancer, y_pred)\n",
        "  ax = sns.heatmap(conf_mtrx, annot=True, fmt='d')\n",
        "  if i == 0:\n",
        "    ax.set_title('Confusion Matrix – XGB', fontsize=15)\n",
        "  else:\n",
        "    ax.set_title('Confusion Matrix – LR', fontsize=15)\n",
        "  ax.set_xlabel('Predicted Label', fontsize=12)\n",
        "  ax.set_ylabel('True Label', fontsize=12)\n",
        "  plt.show()\n",
        "  i += 1\n"
      ],
      "execution_count": null,
      "outputs": [
        {
          "output_type": "display_data",
          "data": {
            "image/png": "[encoded data removed]",
            "text/plain": [
              "<Figure size 432x288 with 2 Axes>"
            ]
          },
          "metadata": {
            "tags": [],
            "needs_background": "light"
          }
        },
        {
          "output_type": "display_data",
          "data": {
            "image/png": "[encoded data removed]",
            "text/plain": [
              "<Figure size 432x288 with 2 Axes>"
            ]
          },
          "metadata": {
            "tags": [],
            "needs_background": "light"
          }
        }
      ]
    },
    {
      "cell_type": "markdown",
      "metadata": {
        "id": "k9XwtUO-RtYe"
      },
      "source": [
        "Видим, что количество FP-ошибок модели XGB сильно выше количества таких ошибок в модели LR. Поэтому устойчивым (хоть и неидеальным) классификатором в данном случае можем считать модель на основе логистической регрессии."
      ]
    }
  ]
}